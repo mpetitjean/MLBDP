{
 "cells": [
  {
   "cell_type": "code",
   "execution_count": 1,
   "metadata": {
    "scrolled": true
   },
   "outputs": [
    {
     "name": "stdout",
     "output_type": "stream",
     "text": [
      "WARNING:tensorflow:From /usr/lib/python3.6/site-packages/tensorflow/contrib/learn/python/learn/datasets/base.py:198: retry (from tensorflow.contrib.learn.python.learn.datasets.base) is deprecated and will be removed in a future version.\n",
      "Instructions for updating:\n",
      "Use the retry module or similar alternatives.\n"
     ]
    },
    {
     "name": "stderr",
     "output_type": "stream",
     "text": [
      "Using TensorFlow backend.\n"
     ]
    }
   ],
   "source": [
    "import tensorflow as tf\n",
    "import tensorflow.contrib.keras.api.keras as K\n",
    "import numpy as np\n",
    "import matplotlib.pyplot as plt\n",
    "from keras.datasets import mnist"
   ]
  },
  {
   "cell_type": "code",
   "execution_count": 2,
   "metadata": {},
   "outputs": [
    {
     "name": "stdout",
     "output_type": "stream",
     "text": [
      "(60000, 28, 28, 1) float32\n"
     ]
    }
   ],
   "source": [
    "# Step 1: Load dataset\n",
    "\n",
    "(x_train, _), (x_test, _) = mnist.load_data()\n",
    "\n",
    "H = 28\n",
    "W = 28\n",
    "C = 1\n",
    "\n",
    "# convert to float32, with pixel values in the range [0-1]\n",
    "x_train = x_train.reshape([x_train.shape[0], H, W, C]).astype(np.float32)\n",
    "x_test = x_test.reshape([x_test.shape[0], H, W, C]).astype(np.float32)\n",
    "\n",
    "x_train = x_train/255.0\n",
    "x_test = x_test/255.0\n",
    "\n",
    "print(x_train.shape, x_train.dtype)"
   ]
  },
  {
   "cell_type": "code",
   "execution_count": 10,
   "metadata": {},
   "outputs": [],
   "source": [
    "# Step 2: Build a CNN autoencoder model\n",
    "\n",
    "model = K.models.Sequential()\n",
    "\n",
    "# 2D conv layer\n",
    "model.add(K.layers.Conv2D(input_shape = (x_train.shape[1:]), filters= 16, kernel_size = (3,3), padding='same', activation='relu'))\n",
    "\n",
    "# 2D max pooling layer: shape is now 14x14\n",
    "model.add(K.layers.MaxPooling2D(pool_size=(2, 2)))\n",
    "\n",
    "# 2D conv layer\n",
    "model.add(K.layers.Conv2D(filters= 16, kernel_size = (3,3), padding='same', activation='relu'))\n",
    "\n",
    "# 2D max pooling layer: shape is now 7x7\n",
    "model.add(K.layers.MaxPooling2D(pool_size=(2, 2)))\n",
    "\n",
    "# 2D conv layer\n",
    "model.add(K.layers.Conv2D(filters= 16, kernel_size = (3,3), padding='same', activation='relu'))\n",
    "\n",
    "# 2D max pooling layer: shape is now 4x4\n",
    "model.add(K.layers.MaxPooling2D(pool_size=(2, 2), padding='same'))\n",
    "\n",
    "# 2D conv layer\n",
    "model.add(K.layers.Conv2D(filters= 16, kernel_size = (3,3), padding='same', activation='relu'))\n",
    "\n",
    "# 2D upsampling: shape is now 8x8\n",
    "model.add(K.layers.UpSampling2D(size=(2, 2)))\n",
    "\n",
    "# 2D upsampling: shape is now 16x16\n",
    "model.add(K.layers.UpSampling2D(size=(2, 2)))\n",
    "\n",
    "# Here, resolution should be 16 by 16 pixels: trim to 14 by 14\n",
    "# 2D conv layer\n",
    "model.add(K.layers.Conv2D(filters= 16, kernel_size = (3,3), padding='valid', activation='relu'))\n",
    "\n",
    "# 2D upsampling: shape is now 28x28\n",
    "model.add(K.layers.UpSampling2D(size=(2, 2)))\n",
    "\n",
    "# Last convolution\n",
    "model.add(K.layers.Conv2D(filters= 1, kernel_size = (3,3), padding='same', activation='sigmoid'))\n",
    "\n",
    "# Compile the model with 'binary_crossentropy' loss function and 'Adagrad' optimizer\n",
    "model.compile(optimizer='Adagrad', loss='binary_crossentropy')"
   ]
  },
  {
   "cell_type": "code",
   "execution_count": null,
   "metadata": {},
   "outputs": [],
   "source": [
    "# Step 3: Train the model\n",
    "\n",
    "model.fit(x_train, x_train, epochs=15, batch_size=100, shuffle=True, validation_data=(x_test, x_test))"
   ]
  },
  {
   "cell_type": "code",
   "execution_count": null,
   "metadata": {},
   "outputs": [],
   "source": [
    "# Step 4: Evaluate the model\n",
    "\n",
    "y_test = model.predict(x_test)\n",
    "\n",
    "for i in range(10):\n",
    "    plt.imshow(np.squeeze(y_test[i,:,:,:]),cmap='gray')\n",
    "    plt.show()\n",
    "    "
   ]
  },
  {
   "cell_type": "code",
   "execution_count": null,
   "metadata": {},
   "outputs": [],
   "source": []
  }
 ],
 "metadata": {
  "kernelspec": {
   "display_name": "Python 3",
   "language": "python",
   "name": "python3"
  },
  "language_info": {
   "codemirror_mode": {
    "name": "ipython",
    "version": 3
   },
   "file_extension": ".py",
   "mimetype": "text/x-python",
   "name": "python",
   "nbconvert_exporter": "python",
   "pygments_lexer": "ipython3",
   "version": "3.6.5"
  }
 },
 "nbformat": 4,
 "nbformat_minor": 2
}
