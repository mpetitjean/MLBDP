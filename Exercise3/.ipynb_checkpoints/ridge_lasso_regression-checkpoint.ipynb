{
 "cells": [
  {
   "cell_type": "code",
   "execution_count": 1,
   "metadata": {},
   "outputs": [],
   "source": [
    "from sklearn.linear_model import Ridge, Lasso\n",
    "from sklearn import datasets\n",
    "import numpy as np"
   ]
  },
  {
   "cell_type": "code",
   "execution_count": 2,
   "metadata": {},
   "outputs": [
    {
     "name": "stdout",
     "output_type": "stream",
     "text": [
      "(506, 14)\n",
      "(506,)\n"
     ]
    }
   ],
   "source": [
    "# Step 1: load dataset and add intercept term\n",
    "X, y = datasets.load_boston(return_X_y=True)\n",
    "num_samples = X.shape[0] # get the first dimension of X (i.e. number of rows)\n",
    "dim = X.shape[1] # get the second dimension of X (i.e. number of columns)\n",
    "\n",
    "# add intercept term\n",
    "X = np.hstack((np.ones((num_samples,1)), X))\n",
    "\n",
    "print(X.shape)\n",
    "print(y.shape)"
   ]
  },
  {
   "cell_type": "code",
   "execution_count": 3,
   "metadata": {},
   "outputs": [
    {
     "name": "stdout",
     "output_type": "stream",
     "text": [
      "Train/Test: 404/102\n"
     ]
    }
   ],
   "source": [
    "# Step 2: split training and testing dataset\n",
    "train_ratio = 0.8\n",
    "N_train = int(train_ratio * num_samples)\n",
    "x_train = X[:N_train,:]\n",
    "y_train = y[:N_train]\n",
    "x_test = X[N_train:,:]\n",
    "y_test = y[N_train:]\n",
    "print('Train/Test: %d/%d' %(x_train.shape[0], x_test.shape[0]))"
   ]
  },
  {
   "cell_type": "code",
   "execution_count": 4,
   "metadata": {},
   "outputs": [
    {
     "name": "stdout",
     "output_type": "stream",
     "text": [
      "[  0.00000000e+00  -1.99623292e-01   4.49878143e-02   3.21783893e-02\n",
      "   1.83892107e+00  -1.03031136e+01   4.77889111e+00  -6.85711856e-04\n",
      "  -1.23977869e+00   4.50664757e-01  -1.61837480e-02  -7.61669398e-01\n",
      "  -4.69242186e-04  -5.38726562e-01]\n"
     ]
    }
   ],
   "source": [
    "# Step 3: fit a Ridge regressor on the training data \n",
    "ridge_regressor = Ridge(alpha = 0.5, intercept = False)\n",
    "# perform fitting \n",
    "ridge_regressor.fit(x_train, y_train)\n",
    "# print the parameters\n",
    "print(ridge_regressor.coef_)"
   ]
  },
  {
   "cell_type": "code",
   "execution_count": 5,
   "metadata": {},
   "outputs": [
    {
     "name": "stdout",
     "output_type": "stream",
     "text": [
      "[ 0.         -0.14387526  0.04757592 -0.          0.         -0.          3.3386863\n",
      "  0.00959228 -0.9217184   0.39919796 -0.01794514 -0.6594946   0.00514419\n",
      " -0.67341186]\n"
     ]
    }
   ],
   "source": [
    "# Step 4: fit a Lasso regressor on the training data, with the same regularization strength \n",
    "lasso_regressor = Lasso(alpha = 0.5, intercept = False) \n",
    "# perform fitting \n",
    "lasso_regressor.fit(x_train, y_train)\n",
    "# print the parameters\n",
    "print(lasso_regressor.coef_)"
   ]
  },
  {
   "cell_type": "code",
   "execution_count": 6,
   "metadata": {},
   "outputs": [
    {
     "name": "stdout",
     "output_type": "stream",
     "text": [
      "Mean square error (Ridge): 31.621092\n",
      "Mean square error (Lasso): 23.541399\n"
     ]
    }
   ],
   "source": [
    "# Step 5: make predictions on X_te using the two regressors\n",
    "pred_ridge = ridge_regressor.predict(x_test)\n",
    "pred_lasso = lasso_regressor.predict(x_test)\n",
    "# evaluate\n",
    "mse_ridge = np.mean(np.square(pred_ridge - y_test))\n",
    "mse_lasso = np.mean(np.square(pred_lasso - y_test))\n",
    "print('Mean square error (Ridge): %f' %mse_ridge)\n",
    "print('Mean square error (Lasso): %f' %mse_lasso)"
   ]
  }
 ],
 "metadata": {
  "kernelspec": {
   "display_name": "Python 3",
   "language": "python",
   "name": "python3"
  },
  "language_info": {
   "codemirror_mode": {
    "name": "ipython",
    "version": 3
   },
   "file_extension": ".py",
   "mimetype": "text/x-python",
   "name": "python",
   "nbconvert_exporter": "python",
   "pygments_lexer": "ipython3",
   "version": "3.6.4"
  }
 },
 "nbformat": 4,
 "nbformat_minor": 2
}
