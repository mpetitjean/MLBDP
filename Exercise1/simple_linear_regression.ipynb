{
 "cells": [
  {
   "cell_type": "code",
   "execution_count": null,
   "metadata": {
    "collapsed": false
   },
   "outputs": [],
   "source": [
    "## Step 1: Generate data\n",
    "import numpy as np\n",
    "import matplotlib.pyplot as plt\n",
    "# generate an array of floats between 0 and 1\n",
    "x = np.linspace(0, 1, num=21)\n",
    "y = 1 + 2*x\n",
    "# plot data\n",
    "plt.plot(x,y,'b')\n",
    "plt.show()"
   ]
  },
  {
   "cell_type": "code",
   "execution_count": null,
   "metadata": {
    "collapsed": false
   },
   "outputs": [],
   "source": [
    "## Step 2: Generate noisy data\n",
    "mu, sigma = 0, 0.1\n",
    "# generate random values using normal distribution with mean = 0 and standard deviation = 0.1\n",
    "noise = # Write your code here\n",
    "y_noise = y + noise\n",
    "\n",
    "# plot the original data and the noisy data in the same figure\n",
    "plt.plot(x,y,'b',x,y_noise,'rx')\n",
    "plt.show()"
   ]
  },
  {
   "cell_type": "code",
   "execution_count": null,
   "metadata": {
    "collapsed": false
   },
   "outputs": [],
   "source": [
    "## Step 3: Find parameters\n",
    "# Here you have to use the provide formulas to calculate parameter theta_0 and theta_1\n",
    "# Your code goes here\n",
    "theta_1 =\n",
    "theta_0 =\n",
    "z = theta_0 + theta_1 * x\n",
    "# plot the original line and the fitting linear line here on the same graph\n",
    "plt.xlabel('x')\n",
    "plt.ylabel('y')\n",
    "plt.plot(x,y,'b',x,y_noise,'rx',x,z,'g')\n",
    "plt.legend(('Original Data', 'Noisy Data', 'Linear Fit'), loc='lower right')\n",
    "plt.show()"
   ]
  },
  {
   "cell_type": "code",
   "execution_count": null,
   "metadata": {
    "collapsed": false
   },
   "outputs": [],
   "source": [
    "## Step 4: Fit multiple lines\n",
    "# uncomment the follow line to toggle between the inline mode and the interactive mode\n",
    "# %pylab osx\n",
    "plt.subplot(111)\n",
    "num_sigma = 6\n",
    "y_noise = np.zeros((num_sigma,len(x)))\n",
    "z = np.zeros((num_sigma,len(x)))\n",
    "for indx,sigma in enumerate(np.linspace(0,1,num=num_sigma)):\n",
    "    # generate the noise\n",
    "    noise = \n",
    "    y_noise[indx,:] = noise + y\n",
    "    # calculate theta_1 and theta_0\n",
    "    theta_1 =\n",
    "    theta_0 =\n",
    "    z[indx,:] = theta_0 + theta_1*x\n",
    "    # plot the fitting line\n",
    "    plt.plot(x,z[indx,:])\n",
    "plt.xlabel('x')\n",
    "plt.ylabel('y')\n",
    "plt.legend(('0.0','0.2','0.4','0.6','0.8','1.0'), loc='lower right')\n",
    "\n",
    "# reset the color cycle, so that the same color will be used for dots\n",
    "plt.gca().set_prop_cycle(None)\n",
    "# plot dots in the same figure\n",
    "for indx in range(num_sigma):\n",
    "    plt.plot(x,y_noise[indx,:],'.')\n",
    "plt.show()"
   ]
  },
  {
   "cell_type": "code",
   "execution_count": null,
   "metadata": {
    "collapsed": true
   },
   "outputs": [],
   "source": [
    "## Step 5: Explore the statistical properties of simple linear regression\n",
    "mu = 0\n",
    "sigma = 0.1\n",
    "n = 1000\n",
    "params = np.zeros((n,2))\n",
    "for i in range(n):\n",
    "    # genrate the noise\n",
    "    noise = \n",
    "    y_noise = y + noise\n",
    "    # your code goes here\n",
    "    theta_1 =\n",
    "    theta_0 =\n",
    "    params[i,0] = theta_0\n",
    "    params[i,1] = theta_1\n",
    "theta_bar = np.mean(params,axis=0)\n",
    "theta_sd = np.std(params,axis=0)\n",
    "print(\"Mean Theta 0: \",theta_bar[0])\n",
    "print(\"Mean Theta 1: \",theta_bar[1])\n",
    "print(\"STD 0: \",theta_sd[0])\n",
    "print(\"STD 1: \",theta_sd[1])\n",
    "f, axarr = plt.subplots(2, sharex=True)\n",
    "axarr[0].hist(params[:,0],bins=30)\n",
    "axarr[0].set_title('Theta 0')\n",
    "axarr[1].hist(params[:,1],bins=30)\n",
    "axarr[1].set_title('Theta 1')\n",
    "plt.show()"
   ]
  }
 ],
 "metadata": {
  "anaconda-cloud": {},
  "kernelspec": {
   "display_name": "Python [conda root]",
   "language": "python",
   "name": "conda-root-py"
  },
  "language_info": {
   "codemirror_mode": {
    "name": "ipython",
    "version": 3
   },
   "file_extension": ".py",
   "mimetype": "text/x-python",
   "name": "python",
   "nbconvert_exporter": "python",
   "pygments_lexer": "ipython3",
   "version": "3.5.2"
  }
 },
 "nbformat": 4,
 "nbformat_minor": 2
}
