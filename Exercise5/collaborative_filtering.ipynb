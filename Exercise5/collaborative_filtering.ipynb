{
 "cells": [
  {
   "cell_type": "code",
   "execution_count": 1,
   "metadata": {},
   "outputs": [],
   "source": [
    "import numpy as np\n",
    "import matplotlib.pyplot as plt\n",
    "from sklearn.metrics import mean_squared_error, mean_absolute_error"
   ]
  },
  {
   "cell_type": "code",
   "execution_count": 2,
   "metadata": {},
   "outputs": [],
   "source": [
    "### Step 1: Load data and create masks\n",
    "\n",
    "def load_rating(fname, N=943, M=1682):\n",
    "    ''' load rating file with the format: UserID::MovieID::Rating::Timestamp\n",
    "    Can be used with MovieLens100K & MovieLens1M\n",
    "    Params:\n",
    "        - fname: file name\n",
    "        - N: number of users\n",
    "        - M: number of items (e.g. movies)\n",
    "    '''\n",
    "    R = np.zeros((N, M))\n",
    "    with open(fname, 'r') as fin:\n",
    "        lines = fin.readlines()\n",
    "        for line in lines:\n",
    "            splt = line.strip().split('\\t')\n",
    "            uid = int(splt[0]) - 1\n",
    "            mid = int(splt[1]) - 1\n",
    "            r = float(splt[2])\n",
    "            R[uid,mid] = r\n",
    "    return R\n",
    "\n",
    "# load training and testing sets\n",
    "data_train = load_rating(\"u1.base\")\n",
    "data_test = load_rating(\"u1.test\")\n",
    "\n",
    "n_users_train, n_movies_train = data_train.shape\n",
    "n_users_test, n_movies_test = data_test.shape\n",
    "\n",
    "# create mask matrix\n",
    "def create_mask(X):\n",
    "    mask = np.ones(X.shape)\n",
    "    mask[X == 0] = 0\n",
    "    return mask"
   ]
  },
  {
   "cell_type": "code",
   "execution_count": 3,
   "metadata": {},
   "outputs": [],
   "source": [
    "### Step 2: Implement functions to calculate cost and gradients\n",
    "# This function computes the cost that we want to minimize\n",
    "def compute_cost(U, V, R, _lambda, M):\n",
    "    ''' \n",
    "    Inputs: \n",
    "        U: A matrix contains users' feature\n",
    "        V: A matrix contains movies' feature\n",
    "        R: A matrix contains ground truth (size: n_movies x n_users)\n",
    "        _lambda: Regularization weight\n",
    "        mask: The binary mask matrix\n",
    "    Output:\n",
    "        loss: (scalar) the mean square error over known elements in R\n",
    "    '''\n",
    "    assert U.shape[1] == V.shape[1]\n",
    "    assert U.shape[0]== R.shape[0]\n",
    "    assert V.shape[0] == R.shape[1]\n",
    "    assert R.shape == M.shape\n",
    "    \n",
    "    elem1 = np.sum(M * ((np.matmul(U,V.T) - R) ** 2)) / np.sum(M)\n",
    "    elem2 = _lambda*np.sum(U ** 2)\n",
    "    elem3 = _lambda*np.sum(V ** 2)\n",
    "    \n",
    "    return 1/2*(elem1 + elem2 + elem3)\n",
    "\n",
    "# This function computes partial derivatives of the cost function w.r.t. movie and user features\n",
    "def compute_gradient(U, V, R, _lambda, M):\n",
    "    ''' \n",
    "    Inputs: \n",
    "        U: A matrix contains users' feature\n",
    "        V: A matrix contains movies' feature\n",
    "        R: A matrix contains ground truth (size: n_movies x n_users)\n",
    "        _lambda: Regularization weight\n",
    "        mask: The binary mask matrix\n",
    "    Output:\n",
    "        grad_U: gradients of the cost function w.r.t. U, must have the same shape as U\n",
    "        grad_V: gradients of the cost function w.r.t. U, must have the same shape as V\n",
    "    '''\n",
    "    assert U.shape[1] == V.shape[1]\n",
    "    assert U.shape[0] == R.shape[0]\n",
    "    assert V.shape[0] == R.shape[1]\n",
    "    assert R.shape == M.shape\n",
    "    \n",
    "    grad_u = np.matmul(((np.matmul(U,V.T) - R) * M), V) + _lambda * U\n",
    "    grad_v = np.matmul(np.transpose((np.matmul(U,V.T) - R) * M), U) + _lambda * V\n",
    "    \n",
    "    return (grad_u, grad_v)"
   ]
  },
  {
   "cell_type": "code",
   "execution_count": 12,
   "metadata": {},
   "outputs": [
    {
     "name": "stdout",
     "output_type": "stream",
     "text": [
      "Final training cost : 0.808008\n"
     ]
    },
    {
     "data": {
      "image/png": "[encoded data removed]",
      "text/plain": [
       "<matplotlib.figure.Figure at 0x7f57e603e588>"
      ]
     },
     "metadata": {},
     "output_type": "display_data"
    }
   ],
   "source": [
    "### Step 3: Training\n",
    "n_features = 10\n",
    "# randomly initialize U and V \n",
    "U = 0.25 * np.random.randn(n_users_train, n_features)\n",
    "V = 0.25 * np.random.randn(n_movies_train, n_features)\n",
    "# regularization weight\n",
    "_lambda = 0.0001\n",
    "# learning rate\n",
    "alpha = 0.001\n",
    "# number of training iteration\n",
    "training_iterations = 150\n",
    "\n",
    "costs = np.zeros(training_iterations)\n",
    "mask = create_mask(data_train)\n",
    "counter = 0\n",
    "while counter < training_iterations:\n",
    "    # perform one step of training\n",
    "    # you shoud also print out some immediate results during the training for debugging purpose\n",
    "    costs[counter] = compute_cost(U, V, data_train, _lambda, mask)\n",
    "    \n",
    "    (gradient_u, gradient_v) = compute_gradient(U, V, data_train, _lambda, mask)\n",
    "    U -= alpha * gradient_u\n",
    "    V -= alpha * gradient_v\n",
    "\n",
    "    counter += 1 \n",
    "    \n",
    "print('Final training cost : %f' %compute_cost(U, V, data_train, _lambda, mask))\n",
    "plt.plot(costs[1:])\n",
    "plt.xlabel('Training step')\n",
    "plt.ylabel('Cost')\n",
    "plt.show()"
   ]
  },
  {
   "cell_type": "code",
   "execution_count": 5,
   "metadata": {},
   "outputs": [],
   "source": [
    "# Step 4: Evaluation function \n",
    "def RMSE(A, B, mask):\n",
    "    ''' Root mean square error \n",
    "    '''\n",
    "    return mean_squared_error(A*mask, B*mask)*np.size(A)/np.count_nonzero(mask)\n",
    "    \n",
    "    \n",
    "def MAE(A, B, mask):\n",
    "    ''' Mean absolute error\n",
    "    '''\n",
    "    return mean_absolute_error(A*mask, B*mask)*np.size(A)/np.count_nonzero(mask)"
   ]
  },
  {
   "cell_type": "code",
   "execution_count": 6,
   "metadata": {},
   "outputs": [
    {
     "name": "stdout",
     "output_type": "stream",
     "text": [
      "RMSE_train:  0.615790481635\n",
      "MAE_train:  0.618534403074\n",
      "RMSE_test:  0.979422138725\n",
      "MAE_test:  0.771523566159\n"
     ]
    }
   ],
   "source": [
    "### Step 5: Evaluate the model\n",
    "# make prediction\n",
    "prediction = np.matmul(U,V.T)\n",
    "\n",
    "# Compute RMSE and MAE on the training set\n",
    "print(\"RMSE_train: \", RMSE(data_train, prediction, mask))\n",
    "print(\"MAE_train: \", MAE(data_train, prediction, mask))\n",
    "\n",
    "# Compute RMSE and MAE on the testing set\n",
    "mask_test = create_mask(data_test)\n",
    "print(\"RMSE_test: \",RMSE(data_test, prediction, mask_test))\n",
    "print(\"MAE_test: \",MAE(data_test, prediction, mask_test))"
   ]
  }
 ],
 "metadata": {
  "kernelspec": {
   "display_name": "Python 3",
   "language": "python",
   "name": "python3"
  },
  "language_info": {
   "codemirror_mode": {
    "name": "ipython",
    "version": 3
   },
   "file_extension": ".py",
   "mimetype": "text/x-python",
   "name": "python",
   "nbconvert_exporter": "python",
   "pygments_lexer": "ipython3",
   "version": "3.6.4"
  }
 },
 "nbformat": 4,
 "nbformat_minor": 2
}
