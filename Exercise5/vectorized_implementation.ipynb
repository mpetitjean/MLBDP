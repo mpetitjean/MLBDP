{
 "cells": [
  {
   "cell_type": "code",
   "execution_count": 1,
   "metadata": {},
   "outputs": [],
   "source": [
    "import numpy as np\n",
    "import time"
   ]
  },
  {
   "cell_type": "code",
   "execution_count": 2,
   "metadata": {},
   "outputs": [],
   "source": [
    "# Step 1: Write function to calculate Euclidean distance \n",
    "# every pairs of rows of two matrix\n",
    "def euclidean(A, B):\n",
    "    ''' A: matrix of shape n x d\n",
    "        B: matrix of shape m x d\n",
    "    Output:\n",
    "        distances: matrix of shape n x m \n",
    "        (distances[i,j] = distance between row i of A and row j of B)\n",
    "    '''\n",
    "    D = np.zeros((A.shape[0], B.shape[0]))\n",
    "    \n",
    "    for i in range(A.shape[0]):\n",
    "        for j in range(B.shape[0]):\n",
    "            D[i,j] = np.linalg.norm(A[i,:] - B[j,:])\n",
    "            \n",
    "    return D\n",
    "            "
   ]
  },
  {
   "cell_type": "code",
   "execution_count": 3,
   "metadata": {
    "scrolled": true
   },
   "outputs": [
    {
     "name": "stdout",
     "output_type": "stream",
     "text": [
      "[[1 2]\n",
      " [3 4]]\n",
      "[3 7]\n"
     ]
    }
   ],
   "source": [
    "a = np.array(((1,2),(3,4)))\n",
    "print(a)\n",
    "print(np.sum(a,axis=1))"
   ]
  },
  {
   "cell_type": "code",
   "execution_count": 4,
   "metadata": {},
   "outputs": [],
   "source": [
    "# Step 2: Write function to calculate Euclidean distance \n",
    "# every pairs of rows of two matrix in a VECTORIZED FORM\n",
    "def euclidean_vectorized(A, B):\n",
    "    ''' A: matrix of shape n x d\n",
    "        B: matrix of shape m x d\n",
    "    Output:\n",
    "        distances: matrix of shape n x m \n",
    "        (distances[i,j] = distance between row i of A and row j of B)\n",
    "    There should be no for loop in this implementation\n",
    "    '''\n",
    "    Ap = np.sum(np.square(A), axis = 1, keepdims= True)\n",
    "    Bp = np.sum(np.square(B), axis = 1, keepdims= True)\n",
    "    \n",
    "    return np.sqrt(Ap + Bp.T - 2 * np.matmul(A,B.T))"
   ]
  },
  {
   "cell_type": "code",
   "execution_count": 5,
   "metadata": {},
   "outputs": [
    {
     "name": "stdout",
     "output_type": "stream",
     "text": [
      "The two functions produce the same results\n"
     ]
    }
   ],
   "source": [
    "# Step 3: Compare the results of the two distance calculation functions\n",
    "A = np.random.randn(50,10)\n",
    "B = np.random.randn(60,10)\n",
    "d1 = euclidean(A,B)\n",
    "d2 = euclidean_vectorized(A,B)\n",
    "assert np.allclose(d1,d2), 'Incorrect implementation of at least one distance function'\n",
    "print('The two functions produce the same results')"
   ]
  },
  {
   "cell_type": "code",
   "execution_count": 6,
   "metadata": {},
   "outputs": [
    {
     "name": "stdout",
     "output_type": "stream",
     "text": [
      "Finish function euclidean in 11.102076 seconds\n",
      "Finish function euclidean_vectorized in 0.026829 seconds\n",
      "Speed up factor: 413.812402 \n"
     ]
    }
   ],
   "source": [
    "# Step 4: Compare the running times of the two distance calculation functions\n",
    "A = np.random.randn(1000,30)\n",
    "B = np.random.randn(1200,30)\n",
    "start = time.time()\n",
    "d1 = euclidean(A,B)\n",
    "time1 = time.time() - start\n",
    "start = time.time()\n",
    "d2 = euclidean_vectorized(A,B)\n",
    "time2 = time.time() - start\n",
    "print('Finish function euclidean in %f seconds' %time1)\n",
    "print('Finish function euclidean_vectorized in %f seconds' %time2)\n",
    "print('Speed up factor: %f ' %(time1 / time2))"
   ]
  }
 ],
 "metadata": {
  "kernelspec": {
   "display_name": "Python 3",
   "language": "python",
   "name": "python3"
  },
  "language_info": {
   "codemirror_mode": {
    "name": "ipython",
    "version": 3
   },
   "file_extension": ".py",
   "mimetype": "text/x-python",
   "name": "python",
   "nbconvert_exporter": "python",
   "pygments_lexer": "ipython3",
   "version": "3.6.4"
  }
 },
 "nbformat": 4,
 "nbformat_minor": 2
}
