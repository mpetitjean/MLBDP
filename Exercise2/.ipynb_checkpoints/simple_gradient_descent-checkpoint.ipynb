{
 "cells": [
  {
   "cell_type": "code",
   "execution_count": 70,
   "metadata": {},
   "outputs": [
    {
     "name": "stdout",
     "output_type": "stream",
     "text": [
      "From (404, 13) to (404, 13)\n",
      "From (102, 13) to (102, 13)\n"
     ]
    }
   ],
   "source": [
    "# Step 1: Load dataset, split into training and test sets, and scale features\n",
    "import numpy as np\n",
    "from sklearn.datasets import load_boston\n",
    "from sklearn.preprocessing import scale\n",
    "\n",
    "# load boston housing price dataset\n",
    "boston = load_boston()\n",
    "x = boston.data\n",
    "y = boston.target\n",
    "\n",
    "# split into training and test sets, namely 80 percent of examples goes for the training, 20 percent goes for the test set\n",
    "N_train = int(0.8 * x.shape[0])\n",
    "x_train = x[:N_train,:]\n",
    "y_train = y[:N_train]\n",
    "x_test = x[N_train:,:]\n",
    "y_test = y[N_train:]\n",
    "\n",
    "# scale features by removing mean and dividing by the standard deviation\n",
    "x_train_scaled = scale(x_train)\n",
    "x_test_scaled = scale(x_test)\n",
    "\n",
    "print(\"From\", x_train.shape, \"to\", x_train_scaled.shape)\n",
    "print(\"From\", x_test.shape, \"to\", x_test_scaled.shape)"
   ]
  },
  {
   "cell_type": "code",
   "execution_count": 71,
   "metadata": {},
   "outputs": [
    {
     "name": "stdout",
     "output_type": "stream",
     "text": [
      "(404, 14)\n",
      "(102, 14)\n",
      "[[-0.65363427]\n",
      " [-0.18951222]\n",
      " [-0.14999123]\n",
      " [-0.40547966]\n",
      " [ 0.2477407 ]\n",
      " [-0.41921287]\n",
      " [ 0.36555289]\n",
      " [-0.72881039]\n",
      " [-0.53956798]\n",
      " [-0.52318115]\n",
      " [ 0.45492326]\n",
      " [ 1.05287674]\n",
      " [-0.08426079]\n",
      " [-0.5534512 ]]\n"
     ]
    }
   ],
   "source": [
    "# Step 2: Add intercept terms and initialize parameters\n",
    "# Note: If you run this step again, please run from step 1 because notebook keeps the value from the previous run\n",
    "\n",
    "x_train_scaled = np.hstack((np.ones((x_train_scaled.shape[0], 1)), x_train_scaled))\n",
    "x_test_scaled = np.hstack((np.ones((x_test_scaled.shape[0], 1)), x_test_scaled))\n",
    "\n",
    "print(x_train_scaled.shape)\n",
    "print(x_test_scaled.shape)\n",
    "\n",
    "# init parameters using random values\n",
    "theta = np.random.normal(loc = 0, scale = 0.5, size = (1,x_train_scaled.shape[1]))\n",
    "theta = np.transpose(theta)\n",
    "print(theta)"
   ]
  },
  {
   "cell_type": "code",
   "execution_count": 72,
   "metadata": {},
   "outputs": [],
   "source": [
    "# Step 3: Implement the gradient and the cost function\n",
    "# In this step, you have to calculate the gradient. You can use the provided formula but the best way is to vectorize\n",
    "# that formula for efficiency\n",
    "def compute_gradient(x,y,theta):\n",
    "    y = np.reshape(y_train, (x_train_scaled.shape[0],1))\n",
    "    return 1/(x.shape[0]) * np.matmul( np.transpose(x), np.matmul(x,theta)-y )\n",
    "\n",
    "def compute_cost(x,y,theta):\n",
    "    y = np.reshape(y_train, (x_train_scaled.shape[0],1))\n",
    "    return 1/(2*x.shape[0]) * np.matmul( np.transpose(np.matmul(x,theta) - y), np.matmul(x,theta) - y )"
   ]
  },
  {
   "cell_type": "code",
   "execution_count": 74,
   "metadata": {},
   "outputs": [
    {
     "name": "stdout",
     "output_type": "stream",
     "text": [
      "(14, 1)\n",
      "0.0\n",
      "0.0\n",
      "0.0\n",
      "0.0\n",
      "0.0\n",
      "0.0\n",
      "0.0\n",
      "0.0\n",
      "0.0\n",
      "0.0\n",
      "0.0\n",
      "0.0\n",
      "0.0\n",
      "0.0\n",
      "Sum of gradient squared error:  10380.5306782\n",
      "[[-24.82937685]\n",
      " [  2.11413604]\n",
      " [ -2.57405574]\n",
      " [  2.67297168]\n",
      " [ -1.26730169]\n",
      " [  1.80835597]\n",
      " [ -6.22329993]\n",
      " [  1.65919064]\n",
      " [ -0.4825726 ]\n",
      " [  1.53069245]\n",
      " [  2.4671155 ]\n",
      " [  4.62544999]\n",
      " [ -0.89510018]\n",
      " [  5.43242891]]\n"
     ]
    }
   ],
   "source": [
    "# Step 4: Verify the gradient value\n",
    "# In this step, you need to verify that the computed gradient is correct. The difference betweet the gradient and the\n",
    "# approximate gradient should be very small (~10^-18)\n",
    "def approximate_gradient(x,y,theta,epsilon):\n",
    "    n_features = x.shape[1]\n",
    "    app_grad = np.zeros(n_features)\n",
    "    for i in range(n_features):\n",
    "        temp = theta\n",
    "        temp2 = theta\n",
    "        temp[i] = temp[i] + epsilon\n",
    "        temp2[i] = temp2[i] - epsilon\n",
    "        app_grad[i] = (compute_cost(x,y,temp) - compute_cost(x,y,temp2))/(2*epsilon)\n",
    "        print(app_grad[i])\n",
    "    return app_grad\n",
    "\n",
    "print(theta.shape)\n",
    "grad = compute_gradient(x_train_scaled,y_train,theta)\n",
    "epsilon = 1e-4\n",
    "app_grad = approximate_gradient(x_train_scaled,y_train,theta,epsilon)\n",
    "print('Sum of gradient squared error: ',np.sum((grad - app_grad)**2))\n",
    "\n",
    "print(grad)"
   ]
  },
  {
   "cell_type": "code",
   "execution_count": 82,
   "metadata": {},
   "outputs": [
    {
     "data": {
      "image/png": "[encoded data removed]",
      "text/plain": [
       "<matplotlib.figure.Figure at 0x7f96cc9c37b8>"
      ]
     },
     "metadata": {},
     "output_type": "display_data"
    },
    {
     "name": "stdout",
     "output_type": "stream",
     "text": [
      "(6, 14)\n",
      "(100,)\n"
     ]
    }
   ],
   "source": [
    "# Step 5: Try gradient descent algorithm with different learning rates\n",
    "import matplotlib.pyplot as plt\n",
    "import copy\n",
    "\n",
    "# try different values for the learning rate\n",
    "learning_rates = [0.001,0.003,0.01,0.03,0.1,0.3]\n",
    "\n",
    "# this matrix keeps the learned parameters\n",
    "theta_matrix = np.zeros((len(learning_rates),x_train_scaled.shape[1]))\n",
    "\n",
    "# number of training iterations\n",
    "N_iterations = 100\n",
    "\n",
    "# prepare to plot\n",
    "plt.subplot(111)\n",
    "\n",
    "# calculate cost value and update theta\n",
    "for indx,alpha in enumerate(learning_rates):\n",
    "    # keep the cost value for each training step\n",
    "    J = np.zeros(N_iterations)\n",
    "    \n",
    "    # initialize new parameters using random distribution\n",
    "    theta = 0.5 * np.random.randn(x_train_scaled.shape[1],1)\n",
    "    for step in range(N_iterations):\n",
    "        # update theta\n",
    "        theta = theta - alpha * compute_gradient(x_train_scaled, y_train, theta)\n",
    "        \n",
    "        # save the value of theta\n",
    "        theta_matrix[indx,:] = np.reshape(theta, (x_train_scaled.shape[1]))\n",
    "        \n",
    "        # calculate the cost on traing set\n",
    "        J[step] = compute_cost(x_train_scaled, y_train, theta)\n",
    "    # plot cost function\n",
    "    plt.plot(J)\n",
    "plt.xlabel('Training step')\n",
    "plt.ylabel('Cost')\n",
    "plt.legend(('0.001','0.003','0.01','0.03','0.1','0.3'), loc='upper right')\n",
    "plt.show()\n",
    "        \n",
    "print(theta_matrix.shape)\n",
    "print(J.shape)"
   ]
  },
  {
   "cell_type": "code",
   "execution_count": null,
   "metadata": {},
   "outputs": [],
   "source": [
    "# Step 6: Predict the price of house\n",
    "# You have to select the best theta you found\n",
    "theta = theta_matrix[-1,:]\n",
    "predict_price = np.matmul(x_test,theta)\n",
    "\n",
    "# calculate the cost for the test set\n",
    "test_cost = # YOUR CODE GOES HERE\n",
    "print('test cost: ',test_cost)\n",
    "\n",
    "# plot the ground truth and the predicted\n",
    "x_axis = np.linspace(1,len(y_test),len(y_test))\n",
    "plt.plot(x_axis,y_test,'b',x_axis,predict_price,'r')\n",
    "plt.legend(('Ground truth','Predicted'))\n",
    "plt.show()"
   ]
  },
  {
   "cell_type": "code",
   "execution_count": null,
   "metadata": {
    "collapsed": true
   },
   "outputs": [],
   "source": []
  }
 ],
 "metadata": {
  "anaconda-cloud": {},
  "kernelspec": {
   "display_name": "Python 3",
   "language": "python",
   "name": "python3"
  },
  "language_info": {
   "codemirror_mode": {
    "name": "ipython",
    "version": 3
   },
   "file_extension": ".py",
   "mimetype": "text/x-python",
   "name": "python",
   "nbconvert_exporter": "python",
   "pygments_lexer": "ipython3",
   "version": "3.6.4"
  }
 },
 "nbformat": 4,
 "nbformat_minor": 2
}
