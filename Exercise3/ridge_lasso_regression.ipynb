{
 "cells": [
  {
   "cell_type": "code",
   "execution_count": 1,
   "metadata": {},
   "outputs": [],
   "source": [
    "from sklearn.linear_model import Ridge, Lasso\n",
    "from sklearn import datasets\n",
    "import numpy as np"
   ]
  },
  {
   "cell_type": "code",
   "execution_count": 2,
   "metadata": {},
   "outputs": [
    {
     "name": "stdout",
     "output_type": "stream",
     "text": [
      "(506, 14)\n",
      "(506,)\n"
     ]
    }
   ],
   "source": [
    "# Step 1: load dataset and add intercept term\n",
    "X, y = datasets.load_boston(return_X_y=True)\n",
    "num_samples = X.shape[0] # get the first dimension of X (i.e. number of rows)\n",
    "dim = X.shape[1] # get the second dimension of X (i.e. number of columns)\n",
    "\n",
    "# add intercept term\n",
    "X = np.hstack((np.ones((num_samples,1)), X))\n",
    "\n",
    "print(X.shape)\n",
    "print(y.shape)"
   ]
  },
  {
   "cell_type": "code",
   "execution_count": 3,
   "metadata": {},
   "outputs": [
    {
     "name": "stdout",
     "output_type": "stream",
     "text": [
      "Train/Test: 404/102\n"
     ]
    }
   ],
   "source": [
    "# Step 2: split training and testing dataset\n",
    "train_ratio = 0.8\n",
    "N_train = int(train_ratio * num_samples)\n",
    "x_train = X[:N_train,:]\n",
    "y_train = y[:N_train]\n",
    "x_test = X[N_train:,:]\n",
    "y_test = y[N_train:]\n",
    "print('Train/Test: %d/%d' %(x_train.shape[0], x_test.shape[0]))"
   ]
  },
  {
   "cell_type": "code",
   "execution_count": 4,
   "metadata": {},
   "outputs": [
    {
     "name": "stdout",
     "output_type": "stream",
     "text": [
      "[  1.54088529e+01  -2.07666526e-01   4.52687933e-02   3.20351984e-02\n",
      "   1.86101047e+00  -6.50444410e+00   5.37257357e+00  -2.13074078e-03\n",
      "  -1.10880828e+00   4.06627034e-01  -1.47762987e-02  -6.23641388e-01\n",
      "   4.44796328e-03  -5.07210309e-01]\n"
     ]
    }
   ],
   "source": [
    "# Step 3: fit a Ridge regressor on the training data \n",
    "ridge_regressor = Ridge(alpha = 0.5, fit_intercept = False)\n",
    "# perform fitting \n",
    "ridge_regressor.fit(x_train, y_train)\n",
    "# print the parameters\n",
    "print(ridge_regressor.coef_)"
   ]
  },
  {
   "cell_type": "code",
   "execution_count": 5,
   "metadata": {},
   "outputs": [
    {
     "name": "stdout",
     "output_type": "stream",
     "text": [
      "[ 0.         -0.17868504  0.04550833  0.01770839  0.          0.          5.2147907\n",
      "  0.01578358 -0.69172524  0.27410354 -0.01054611 -0.33256148  0.01727806\n",
      " -0.54843907]\n"
     ]
    }
   ],
   "source": [
    "# Step 4: fit a Lasso regressor on the training data, with the same regularization strength \n",
    "lasso_regressor = Lasso(alpha = 0.5, fit_intercept = False) \n",
    "# perform fitting \n",
    "lasso_regressor.fit(x_train, y_train)\n",
    "# print the parameters\n",
    "print(lasso_regressor.coef_)"
   ]
  },
  {
   "cell_type": "code",
   "execution_count": 6,
   "metadata": {},
   "outputs": [
    {
     "name": "stdout",
     "output_type": "stream",
     "text": [
      "Mean square error (Ridge): 30.395668\n",
      "Mean square error (Lasso): 27.777405\n"
     ]
    }
   ],
   "source": [
    "# Step 5: make predictions on X_te using the two regressors\n",
    "pred_ridge = ridge_regressor.predict(x_test)\n",
    "pred_lasso = lasso_regressor.predict(x_test)\n",
    "# evaluate\n",
    "mse_ridge = np.mean(np.square(pred_ridge - y_test))\n",
    "mse_lasso = np.mean(np.square(pred_lasso - y_test))\n",
    "print('Mean square error (Ridge): %f' %mse_ridge)\n",
    "print('Mean square error (Lasso): %f' %mse_lasso)"
   ]
  }
 ],
 "metadata": {
  "kernelspec": {
   "display_name": "Python 3",
   "language": "python",
   "name": "python3"
  },
  "language_info": {
   "codemirror_mode": {
    "name": "ipython",
    "version": 3
   },
   "file_extension": ".py",
   "mimetype": "text/x-python",
   "name": "python",
   "nbconvert_exporter": "python",
   "pygments_lexer": "ipython3",
   "version": "3.6.4"
  }
 },
 "nbformat": 4,
 "nbformat_minor": 2
}
