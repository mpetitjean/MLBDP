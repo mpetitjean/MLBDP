{
 "cells": [
  {
   "cell_type": "code",
   "execution_count": 2,
   "metadata": {
    "scrolled": true
   },
   "outputs": [
    {
     "name": "stderr",
     "output_type": "stream",
     "text": [
      "Using TensorFlow backend.\n"
     ]
    }
   ],
   "source": [
    "import tensorflow as tf\n",
    "import keras as K\n",
    "import numpy as np\n",
    "import matplotlib.pyplot as plt\n",
    "from keras.datasets import mnist"
   ]
  },
  {
   "cell_type": "code",
   "execution_count": 4,
   "metadata": {},
   "outputs": [],
   "source": [
    "# Step 1: Load dataset\n",
    "\n",
    "(x_train, _), (x_test, _) = mnist.load_data()\n",
    "\n",
    "H = 28\n",
    "W = 28\n",
    "C = 1\n",
    "\n",
    "# convert to float32, with pixel values in the range [0-1]\n",
    "x_train = x_train.reshape([x_train.shape[0], H, W, C]).astype(np.float32)\n",
    "x_test = x_test.reshape([x_test.shape[0], H, W, C]).astype(np.float32)\n",
    "\n",
    "x_train = x_train/255.0\n",
    "x_test = x_test/255.0\n",
    "\n",
    "# copy data and add gaussian noise, sigma=0.2\n",
    "x_train_noisy = np.copy(x_train) + np.random.normal(loc = 0, scale = 0.2, size = x_train.shape)\n",
    "x_test_noisy = np.copy(x_test) + np.random.normal(loc = 0, scale = 0.2, size = x_test.shape)\n",
    "\n"
   ]
  },
  {
   "cell_type": "code",
   "execution_count": 7,
   "metadata": {},
   "outputs": [
    {
     "data": {
      "image/png": "[encoded data removed]",
      "text/plain": [
       "<matplotlib.figure.Figure at 0x7f68cd5ee2b0>"
      ]
     },
     "metadata": {},
     "output_type": "display_data"
    }
   ],
   "source": [
    "# visualise noiseless/noisy pair\n",
    "\n",
    "idx = 0\n",
    "\n",
    "plt.figure()\n",
    "\n",
    "plt.subplot(1, 2, 1)\n",
    "plt.imshow(x_train[idx, :, :, 0], cmap='gray')\n",
    "\n",
    "plt.subplot(1, 2, 2)\n",
    "plt.imshow(x_train_noisy[idx, :, :, 0], cmap='gray')\n",
    "plt.show()"
   ]
  },
  {
   "cell_type": "code",
   "execution_count": 8,
   "metadata": {},
   "outputs": [],
   "source": [
    "# Step 2: Build a denoising autoencoder\n",
    "\n",
    "model = K.models.Sequential()\n",
    "\n",
    "# 2D conv layer\n",
    "model.add(K.layers.Conv2D(input_shape = (x_train_noisy.shape[1:]), filters= 32, kernel_size = (3,3), padding='same', activation='relu'))\n",
    "\n",
    "# 2D max pooling layer: shape is now 14x14\n",
    "model.add(K.layers.MaxPooling2D(pool_size=(2, 2)))\n",
    "\n",
    "# 2D conv layer\n",
    "model.add(K.layers.Conv2D(filters= 32, kernel_size = (3,3), padding='same', activation='relu'))\n",
    "\n",
    "# 2D max pooling layer: shape is now 7x7\n",
    "model.add(K.layers.MaxPooling2D(pool_size=(2, 2)))\n",
    "\n",
    "# 2D conv layer\n",
    "model.add(K.layers.Conv2D(filters= 32, kernel_size = (3,3), padding='same', activation='relu'))\n",
    "\n",
    "# 2D upsampling: shape is now 14x14\n",
    "model.add(K.layers.UpSampling2D(size=(2, 2)))\n",
    "\n",
    "# 2D conv layer\n",
    "model.add(K.layers.Conv2D(filters= 32, kernel_size = (3,3), padding='same', activation='relu'))\n",
    "\n",
    "# 2D upsampling: shape is now 28x28\n",
    "model.add(K.layers.UpSampling2D(size=(2, 2)))\n",
    "\n",
    "# Last convolution\n",
    "model.add(K.layers.Conv2D(filters= 1, kernel_size = (3,3), padding='same', activation='sigmoid'))\n",
    "\n",
    "# Compile the model with 'binary_crossentropy' loss function and 'Adagrad' optimizer\n",
    "model.compile(optimizer='Adagrad', loss='binary_crossentropy')"
   ]
  },
  {
   "cell_type": "code",
   "execution_count": null,
   "metadata": {},
   "outputs": [],
   "source": [
    "# Step 3: Train the model\n",
    "\n",
    "model.fit(x_train_noisy, x_train, epochs=10, batch_size=100, shuffle=True, validation_data=(x_test_noisy, x_test))"
   ]
  },
  {
   "cell_type": "code",
   "execution_count": null,
   "metadata": {},
   "outputs": [],
   "source": [
    "# Step 4: Evaluate the model\n",
    "\n",
    "y_test = model.predict(x_test_noisy)\n"
   ]
  }
 ],
 "metadata": {
  "kernelspec": {
   "display_name": "Python 3",
   "language": "python",
   "name": "python3"
  },
  "language_info": {
   "codemirror_mode": {
    "name": "ipython",
    "version": 3
   },
   "file_extension": ".py",
   "mimetype": "text/x-python",
   "name": "python",
   "nbconvert_exporter": "python",
   "pygments_lexer": "ipython3",
   "version": "3.6.5"
  }
 },
 "nbformat": 4,
 "nbformat_minor": 2
}
